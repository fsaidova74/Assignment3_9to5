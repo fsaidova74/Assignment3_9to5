{
    "metadata": {
        "kernelspec": {
            "name": "SQL",
            "display_name": "SQL",
            "language": "sql"
        },
        "language_info": {
            "name": "sql",
            "version": ""
        },
        "extensions": {
            "azuredatastudio": {
                "version": 1,
                "views": []
            }
        }
    },
    "nbformat_minor": 2,
    "nbformat": 4,
    "cells": [
        {
            "cell_type": "markdown",
            "source": [
                "# <span style=\"font-size:20pt;font-family:Montserrat, sans-serif;color:rgb(92, 148, 206);background-color:rgb(255, 255, 255);font-weight:700;vertical-align:baseline;white-space:pre-wrap;\">Graded Assignment 3: 9 to 5</span>\n",
                "\n",
                "<span style=\"font-size:10pt;font-family:&quot;Times New Roman&quot;;color:rgb(102, 102, 102);background-color:rgb(255, 255, 255);vertical-align:baseline;white-space:pre-wrap;\">Time to show off your SQL skills! For each question, copy the SQL query you used and make note of the answer.</span>\n",
                "\n",
                "## <span style=\"font-size:12pt;font-family:Montserrat, sans-serif;color:rgb(53, 74, 95);background-color:rgb(255, 255, 255);font-weight:700;vertical-align:baseline;white-space:pre-wrap;\">The Dataset</span>\n",
                "\n",
                "<span style=\"font-size:10pt;font-family:&quot;Times New Roman&quot;;color:rgb(102, 102, 102);background-color:rgb(255, 255, 255);vertical-align:baseline;white-space:pre-wrap;\">For this assignment, you will be using the Bureau of Labor Statistics (BLS) Current Employment Survey (CES) results which can be found on</span> [<span style=\"font-size:10pt;font-family:&quot;Times New Roman&quot;;color:rgb(17, 85, 204);background-color:rgb(255, 255, 255);vertical-align:baseline;white-space:pre-wrap;\">Kaggle</span>](https://www.kaggle.com/bls/employment)<span style=\"font-size:10pt;font-family:&quot;Times New Roman&quot;;color:rgb(102, 102, 102);background-color:rgb(255, 255, 255);vertical-align:baseline;white-space:pre-wrap;\">.</span>\n",
                "\n",
                "## <span style=\"font-size:12pt;font-family:Montserrat, sans-serif;color:rgb(53, 74, 95);background-color:rgb(255, 255, 255);font-weight:700;vertical-align:baseline;white-space:pre-wrap;\">Business Issue</span>\n",
                "\n",
                "<span style=\"font-size:10pt;font-family:&quot;Times New Roman&quot;;color:rgb(102, 102, 102);background-color:rgb(255, 255, 255);vertical-align:baseline;white-space:pre-wrap;\">You are working for the Bureau of Labor Statistics with the United States government and have been approached by your boss with an important meeting request. You have been asked by your supervisor to meet with Dolly Parton whose nonprofit is looking to shed light on the state of employment in the United States. As part of the 9 to 5 project, their research is focused on production and nonsupervisory employees and how those employees fare compared to all employees in the United States. While the data the BLS collects from the CES is publicly available, Dolly Parton and her colleagues need your assistance navigating the thousands of rows in each table in LaborStatisticsDB.</span>\n",
                "\n",
                "## <span style=\"font-size:12pt;font-family:Montserrat, sans-serif;color:rgb(53, 74, 95);background-color:rgb(255, 255, 255);font-weight:700;vertical-align:baseline;white-space:pre-wrap;\">About the Dataset</span>\n",
                "\n",
                "<span style=\"font-size:10pt;font-family:&quot;Times New Roman&quot;;color:rgb(102, 102, 102);background-color:rgb(255, 255, 255);vertical-align:baseline;white-space:pre-wrap;\">This dataset comes directly from the Bureau of Labor Statistics’ Current Employment Survey (CES). Here are some things you need to know:</span>\n",
                "\n",
                "1. <span style=\"font-size:10pt;background-color:rgb(255, 255, 255);vertical-align:baseline;white-space:pre-wrap;\">The industry table contains an NAICS code. This is different from the industry code. NAICS stands for North American Industry Classification System.</span>\n",
                "    \n",
                "2. <span style=\"font-size:10pt;background-color:rgb(255, 255, 255);vertical-align:baseline;white-space:pre-wrap;\">Series ID is composed of multiple different codes. CES stands for Current Employment Survey, the name of the survey which collected the data. The industry code as specified by the BLS and the data type code as specified in the datatype table.</span>\n",
                "    \n",
                "\n",
                "## <span style=\"font-size:12pt;font-family:Montserrat, sans-serif;color:rgb(53, 74, 95);background-color:rgb(255, 255, 255);font-weight:700;vertical-align:baseline;white-space:pre-wrap;\">Set Up</span>\n",
                "\n",
                "<span style=\"font-size:10pt;font-family:&quot;Times New Roman&quot;;color:rgb(102, 102, 102);background-color:rgb(255, 255, 255);vertical-align:baseline;white-space:pre-wrap;\">To connect to the database, use the same connection info used during the SQL lessons.&nbsp;</span> \n",
                "\n",
                "<span style=\"font-size:10pt;font-family:&quot;Times New Roman&quot;;color:rgb(102, 102, 102);background-color:rgb(255, 255, 255);vertical-align:baseline;white-space:pre-wrap;\">For the assignment, we will be using the LaborStatisticsDB database.</span>\n",
                "\n",
                "## <span style=\"font-size:12pt;font-family:Montserrat, sans-serif;color:rgb(53, 74, 95);background-color:rgb(255, 255, 255);font-weight:700;vertical-align:baseline;white-space:pre-wrap;\">Database Exploration</span>\n",
                "\n",
                "<span style=\"font-size:10pt;font-family:&quot;Times New Roman&quot;;color:rgb(102, 102, 102);background-color:rgb(255, 255, 255);vertical-align:baseline;white-space:pre-wrap;\">To start with, let’s get to know the database further.</span>\n",
                "\n",
                "1. <span style=\"background-color:rgb(255, 255, 255);color:rgb(102, 102, 102);font-family:&quot;Times New Roman&quot;;font-size:10pt;white-space:pre-wrap;\">Use this space to make note of each table in the database, the columns within each table, each column’s data type, and how the tables are connected. You can write this down or draw a diagram. Whatever method helps you get an understanding of what is going on with LaborStatisticsDB.</span>"
            ],
            "metadata": {
                "azdata_cell_guid": "28ea70c5-f0be-4197-b6c0-ade22886a708"
            },
            "attachments": {}
        },
        {
            "cell_type": "markdown",
            "source": [
                "To add a photo, diagram or document to your file, drop the file into the folder that holds this notebook.  Use the the link button to the right of the  \\</\\> symbol in the gray part of this cell, the link is just the name of your file."
            ],
            "metadata": {
                "azdata_cell_guid": "aeae906c-752c-49d3-b482-3ed6a4f54b6e"
            },
            "attachments": {}
        },
        {
            "cell_type": "code",
            "source": [
                "-- dbo.annual_2016\r\n",
                "\r\n",
                "-- id\r\n",
                "\r\n",
                "-- series_id\r\n",
                "\r\n",
                "-- footnote_codes\r\n",
                "\r\n",
                "\r\n",
                "\r\n",
                "-- dbo.datatype\r\n",
                "\r\n",
                "-- data_type_code\r\n",
                "\r\n",
                "-- data_type_text\r\n",
                "\r\n",
                "\r\n",
                "\r\n",
                "-- dbo.footnote\r\n",
                "\r\n",
                "-- footnote_code\r\n",
                "\r\n",
                "-- footnote_text\r\n",
                "\r\n",
                "\r\n",
                "\r\n",
                "-- dbo.industry\r\n",
                "\r\n",
                "-- id\r\n",
                "\r\n",
                "-- industry_code\r\n",
                "\r\n",
                "-- naics_code\r\n",
                "\r\n",
                "-- industry_name\r\n",
                "\r\n",
                "\r\n",
                "\r\n",
                "-- dbo.january_2017\r\n",
                "\r\n",
                "-- id\r\n",
                "\r\n",
                "-- series_id\r\n",
                "\r\n",
                "-- footnote_codes\r\n",
                "\r\n",
                "\r\n",
                "\r\n",
                "-- dbo.period\r\n",
                "\r\n",
                "-- period_code\r\n",
                "\r\n",
                "-- month\r\n",
                "\r\n",
                "\r\n",
                "\r\n",
                "-- dbo.seasonal\r\n",
                "\r\n",
                "-- industry_code\r\n",
                "\r\n",
                "-- seasonal_text\r\n",
                "\r\n",
                "\r\n",
                "\r\n",
                "-- dbo.series\r\n",
                "\r\n",
                "-- series_id\r\n",
                "\r\n",
                "-- industry_code\r\n",
                "\r\n",
                "-- series_title\r\n",
                "\r\n",
                "-- supersector_code\r\n",
                "\r\n",
                "-- data_type_code\r\n",
                "\r\n",
                "\r\n",
                "\r\n",
                "-- dbo.supersector\r\n",
                "\r\n",
                "-- supersector_code\r\n",
                "\r\n",
                "-- supersector_name\r\n",
                ""
            ],
            "metadata": {
                "azdata_cell_guid": "dbf3633e-8503-49e6-b128-cf010d1558cf"
            },
            "outputs": [],
            "execution_count": null
        },
        {
            "cell_type": "markdown",
            "source": [
                "2. <span style=\"background-color: rgb(255, 255, 255); color: rgb(102, 102, 102); font-family: Arvo, serif; font-size: 10pt; white-space: pre-wrap;\">What is the datatype for women employees?</span>"
            ],
            "metadata": {
                "azdata_cell_guid": "01b111b7-baf1-4617-88bc-cd442826c9c9"
            },
            "attachments": {}
        },
        {
            "cell_type": "code",
            "source": [
                "SELECT top 10 data_type_text\r\n",
                "FROM LaborStatisticsDB.dbo.datatype\r\n",
                "\r\n",
                "\r\n",
                "SELECT data_type_code\r\n",
                "FROM LaborStatisticsDB.dbo.datatype\r\n",
                "WHERE data_type_text = 'production and nonsupervisory employees'"
            ],
            "metadata": {
                "azdata_cell_guid": "02fa547c-0bb7-4a40-81c2-f5c05154df04"
            },
            "outputs": [
                {
                    "output_type": "display_data",
                    "data": {
                        "text/html": "(10 rows affected)"
                    },
                    "metadata": {}
                },
                {
                    "output_type": "display_data",
                    "data": {
                        "text/html": "(1 row affected)"
                    },
                    "metadata": {}
                },
                {
                    "output_type": "display_data",
                    "data": {
                        "text/html": "Total execution time: 00:00:00.331"
                    },
                    "metadata": {}
                },
                {
                    "output_type": "execute_result",
                    "metadata": {},
                    "execution_count": 125,
                    "data": {
                        "application/vnd.dataresource+json": {
                            "schema": {
                                "fields": [
                                    {
                                        "name": "data_type_text"
                                    }
                                ]
                            },
                            "data": [
                                {
                                    "0": "ALL EMPLOYEES"
                                },
                                {
                                    "0": "AVERAGE WEEKLY HOURS OF ALL EMPLOYEES"
                                },
                                {
                                    "0": "AVERAGE HOURLY EARNINGS OF ALL EMPLOYEES"
                                },
                                {
                                    "0": "AVERAGE WEEKLY OVERTIME HOURS OF ALL EMPLOYEES"
                                },
                                {
                                    "0": "PRODUCTION AND NONSUPERVISORY EMPLOYEES"
                                },
                                {
                                    "0": "AVERAGE WEEKLY HOURS OF PRODUCTION AND NONSUPERVISORY EMPLOYEES"
                                },
                                {
                                    "0": "AVERAGE HOURLY EARNINGS OF PRODUCTION AND NONSUPERVISORY EMPLOYEES"
                                },
                                {
                                    "0": "AVERAGE WEEKLY OVERTIME HOURS OF PRODUCTION AND NONSUPERVISORY EMPLOYEES"
                                },
                                {
                                    "0": "WOMEN EMPLOYEES"
                                },
                                {
                                    "0": "AVERAGE WEEKLY EARNINGS OF ALL EMPLOYEES"
                                }
                            ]
                        },
                        "text/html": [
                            "<table>",
                            "<tr><th>data_type_text</th></tr>",
                            "<tr><td>ALL EMPLOYEES</td></tr>",
                            "<tr><td>AVERAGE WEEKLY HOURS OF ALL EMPLOYEES</td></tr>",
                            "<tr><td>AVERAGE HOURLY EARNINGS OF ALL EMPLOYEES</td></tr>",
                            "<tr><td>AVERAGE WEEKLY OVERTIME HOURS OF ALL EMPLOYEES</td></tr>",
                            "<tr><td>PRODUCTION AND NONSUPERVISORY EMPLOYEES</td></tr>",
                            "<tr><td>AVERAGE WEEKLY HOURS OF PRODUCTION AND NONSUPERVISORY EMPLOYEES</td></tr>",
                            "<tr><td>AVERAGE HOURLY EARNINGS OF PRODUCTION AND NONSUPERVISORY EMPLOYEES</td></tr>",
                            "<tr><td>AVERAGE WEEKLY OVERTIME HOURS OF PRODUCTION AND NONSUPERVISORY EMPLOYEES</td></tr>",
                            "<tr><td>WOMEN EMPLOYEES</td></tr>",
                            "<tr><td>AVERAGE WEEKLY EARNINGS OF ALL EMPLOYEES</td></tr>",
                            "</table>"
                        ]
                    }
                },
                {
                    "output_type": "execute_result",
                    "metadata": {},
                    "execution_count": 125,
                    "data": {
                        "application/vnd.dataresource+json": {
                            "schema": {
                                "fields": [
                                    {
                                        "name": "data_type_code"
                                    }
                                ]
                            },
                            "data": [
                                {
                                    "0": "6"
                                }
                            ]
                        },
                        "text/html": [
                            "<table>",
                            "<tr><th>data_type_code</th></tr>",
                            "<tr><td>6</td></tr>",
                            "</table>"
                        ]
                    }
                }
            ],
            "execution_count": 125
        },
        {
            "cell_type": "markdown",
            "source": [
                "3. <span style=\"background-color: rgb(255, 255, 255); font-size: 10pt; white-space: pre-wrap; color: rgb(102, 102, 102); font-family: Arvo, serif;\">What is the series id for&nbsp; women employees in the commercial banking industry in the financial activities supersector?</span>"
            ],
            "metadata": {
                "azdata_cell_guid": "325f85cc-9545-47b3-b975-3aab6278e4ea"
            },
            "attachments": {}
        },
        {
            "cell_type": "code",
            "source": [
                "SELECT industry_code, industry_name\r\n",
                "FROM LaborStatisticsDB.dbo.industry\r\n",
                "WHERE industry_name = 'Commercial Banking'\r\n",
                "\r\n",
                "SELECT supersector_code, supersector_name\r\n",
                "FROM LaborStatisticsDB.dbo.supersector\r\n",
                "WHERE supersector_name = 'Financial Activities'\r\n",
                "\r\n",
                "SELECT series_id , series_title\r\n",
                "FROM LaborStatisticsDB.dbo.series\r\n",
                "WHERE supersector_code = 55 AND industry_code = 55522110 AND data_type_code = 10"
            ],
            "metadata": {
                "azdata_cell_guid": "1315af1f-45f8-457d-8bbe-8e9f46303fca",
                "tags": []
            },
            "outputs": [
                {
                    "output_type": "display_data",
                    "data": {
                        "text/html": "(1 row affected)"
                    },
                    "metadata": {}
                },
                {
                    "output_type": "display_data",
                    "data": {
                        "text/html": "(1 row affected)"
                    },
                    "metadata": {}
                },
                {
                    "output_type": "display_data",
                    "data": {
                        "text/html": "(2 rows affected)"
                    },
                    "metadata": {}
                },
                {
                    "output_type": "display_data",
                    "data": {
                        "text/html": "Total execution time: 00:00:00.088"
                    },
                    "metadata": {}
                },
                {
                    "output_type": "execute_result",
                    "metadata": {},
                    "execution_count": 18,
                    "data": {
                        "application/vnd.dataresource+json": {
                            "schema": {
                                "fields": [
                                    {
                                        "name": "industry_code"
                                    },
                                    {
                                        "name": "industry_name"
                                    }
                                ]
                            },
                            "data": [
                                {
                                    "0": "55522110",
                                    "1": "Commercial banking"
                                }
                            ]
                        },
                        "text/html": [
                            "<table>",
                            "<tr><th>industry_code</th><th>industry_name</th></tr>",
                            "<tr><td>55522110</td><td>Commercial banking</td></tr>",
                            "</table>"
                        ]
                    }
                },
                {
                    "output_type": "execute_result",
                    "metadata": {},
                    "execution_count": 18,
                    "data": {
                        "application/vnd.dataresource+json": {
                            "schema": {
                                "fields": [
                                    {
                                        "name": "supersector_code"
                                    },
                                    {
                                        "name": "supersector_name"
                                    }
                                ]
                            },
                            "data": [
                                {
                                    "0": "55",
                                    "1": "Financial activities"
                                }
                            ]
                        },
                        "text/html": [
                            "<table>",
                            "<tr><th>supersector_code</th><th>supersector_name</th></tr>",
                            "<tr><td>55</td><td>Financial activities</td></tr>",
                            "</table>"
                        ]
                    }
                },
                {
                    "output_type": "execute_result",
                    "metadata": {},
                    "execution_count": 18,
                    "data": {
                        "application/vnd.dataresource+json": {
                            "schema": {
                                "fields": [
                                    {
                                        "name": "series_id"
                                    },
                                    {
                                        "name": "series_title"
                                    }
                                ]
                            },
                            "data": [
                                {
                                    "0": "CES5552211010",
                                    "1": "Women employees"
                                },
                                {
                                    "0": "CEU5552211010",
                                    "1": "Women employees"
                                }
                            ]
                        },
                        "text/html": [
                            "<table>",
                            "<tr><th>series_id</th><th>series_title</th></tr>",
                            "<tr><td>CES5552211010</td><td>Women employees</td></tr>",
                            "<tr><td>CEU5552211010</td><td>Women employees</td></tr>",
                            "</table>"
                        ]
                    }
                }
            ],
            "execution_count": 18
        },
        {
            "cell_type": "markdown",
            "source": [
                "## <span style=\"font-size: 12pt; font-family: Montserrat, sans-serif; color: rgb(53, 74, 95); background-color: rgb(255, 255, 255); font-weight: 700; font-variant-numeric: normal; font-variant-east-asian: normal; vertical-align: baseline; white-space: pre-wrap;\">Join in on the Fun</span>\n",
                "\n",
                "<span style=\"font-size: 10pt; font-family: Arvo, serif; color: rgb(102, 102, 102); background-color: rgb(255, 255, 255); font-variant-numeric: normal; font-variant-east-asian: normal; vertical-align: baseline; white-space: pre-wrap;\">Time to start joining! You can choose the type of join you use, just make sure to make a&nbsp; note!</span>\n",
                "\n",
                "1. <span style=\"background-color: rgb(255, 255, 255); font-size: 10pt; white-space: pre-wrap; color: rgb(102, 102, 102); font-family: Arvo, serif;\">Join&nbsp; annual_2016 with series on series_id. We only want the data in the annual_2016 table to be included in the result.</span>"
            ],
            "metadata": {
                "azdata_cell_guid": "ec1dfc63-ad41-4349-8c26-1d326ace8c6c"
            },
            "attachments": {}
        },
        {
            "cell_type": "code",
            "source": [
                "SELECT top 10 p.id, p.series_id, p.[year], p.[value], p.[period], p.footnote_codes, p.original_file\r\n",
                "FROM  LaborStatisticsDB.dbo.annual_2016 as p\r\n",
                "INNER JOIN LaborStatisticsDB.dbo.series as s\r\n",
                "ON p.series_id = s.series_id"
            ],
            "metadata": {
                "azdata_cell_guid": "cf90f0b4-c482-4fbb-ac17-d2244881caab"
            },
            "outputs": [
                {
                    "output_type": "display_data",
                    "data": {
                        "text/html": "(10 rows affected)"
                    },
                    "metadata": {}
                },
                {
                    "output_type": "display_data",
                    "data": {
                        "text/html": "Total execution time: 00:01:26.833"
                    },
                    "metadata": {}
                },
                {
                    "output_type": "execute_result",
                    "metadata": {},
                    "execution_count": 126,
                    "data": {
                        "application/vnd.dataresource+json": {
                            "schema": {
                                "fields": [
                                    {
                                        "name": "id"
                                    },
                                    {
                                        "name": "series_id"
                                    },
                                    {
                                        "name": "year"
                                    },
                                    {
                                        "name": "value"
                                    },
                                    {
                                        "name": "period"
                                    },
                                    {
                                        "name": "footnote_codes"
                                    },
                                    {
                                        "name": "original_file"
                                    }
                                ]
                            },
                            "data": [
                                {
                                    "0": "8755",
                                    "1": "CEU0000000001",
                                    "2": "2016",
                                    "3": "144306",
                                    "4": "M13",
                                    "5": "NULL",
                                    "6": "ce.data.0.AllCESSeries.csv"
                                },
                                {
                                    "0": "22220",
                                    "1": "CEU0000000001",
                                    "2": "2016",
                                    "3": "144306",
                                    "4": "M13",
                                    "5": "NULL",
                                    "6": "ce.data.00a.TotalNonfarm.Employment.csv"
                                },
                                {
                                    "0": "8756",
                                    "1": "CEU0000000010",
                                    "2": "2016",
                                    "3": "71492",
                                    "4": "M13",
                                    "5": "NULL",
                                    "6": "ce.data.0.AllCESSeries.csv"
                                },
                                {
                                    "0": "22221",
                                    "1": "CEU0000000010",
                                    "2": "2016",
                                    "3": "71492",
                                    "4": "M13",
                                    "5": "NULL",
                                    "6": "ce.data.00a.TotalNonfarm.Employment.csv"
                                },
                                {
                                    "0": "6281",
                                    "1": "CEU0500000001",
                                    "2": "2016",
                                    "3": "122083",
                                    "4": "M13",
                                    "5": "NULL",
                                    "6": "ce.data.05a.TotalPrivate.Employment.csv"
                                },
                                {
                                    "0": "8757",
                                    "1": "CEU0500000001",
                                    "2": "2016",
                                    "3": "122083",
                                    "4": "M13",
                                    "5": "NULL",
                                    "6": "ce.data.0.AllCESSeries.csv"
                                },
                                {
                                    "0": "7954",
                                    "1": "CEU0500000002",
                                    "2": "2016",
                                    "3": "34.4",
                                    "4": "M13",
                                    "5": "NULL",
                                    "6": "ce.data.05b.TotalPrivate.AllEmployeeHoursAndEarnings.csv"
                                },
                                {
                                    "0": "8758",
                                    "1": "CEU0500000002",
                                    "2": "2016",
                                    "3": "34.4",
                                    "4": "M13",
                                    "5": "NULL",
                                    "6": "ce.data.0.AllCESSeries.csv"
                                },
                                {
                                    "0": "7955",
                                    "1": "CEU0500000003",
                                    "2": "2016",
                                    "3": "25.65",
                                    "4": "M13",
                                    "5": "NULL",
                                    "6": "ce.data.05b.TotalPrivate.AllEmployeeHoursAndEarnings.csv"
                                },
                                {
                                    "0": "8759",
                                    "1": "CEU0500000003",
                                    "2": "2016",
                                    "3": "25.65",
                                    "4": "M13",
                                    "5": "NULL",
                                    "6": "ce.data.0.AllCESSeries.csv"
                                }
                            ]
                        },
                        "text/html": [
                            "<table>",
                            "<tr><th>id</th><th>series_id</th><th>year</th><th>value</th><th>period</th><th>footnote_codes</th><th>original_file</th></tr>",
                            "<tr><td>8755</td><td>CEU0000000001</td><td>2016</td><td>144306</td><td>M13</td><td>NULL</td><td>ce.data.0.AllCESSeries.csv</td></tr>",
                            "<tr><td>22220</td><td>CEU0000000001</td><td>2016</td><td>144306</td><td>M13</td><td>NULL</td><td>ce.data.00a.TotalNonfarm.Employment.csv</td></tr>",
                            "<tr><td>8756</td><td>CEU0000000010</td><td>2016</td><td>71492</td><td>M13</td><td>NULL</td><td>ce.data.0.AllCESSeries.csv</td></tr>",
                            "<tr><td>22221</td><td>CEU0000000010</td><td>2016</td><td>71492</td><td>M13</td><td>NULL</td><td>ce.data.00a.TotalNonfarm.Employment.csv</td></tr>",
                            "<tr><td>6281</td><td>CEU0500000001</td><td>2016</td><td>122083</td><td>M13</td><td>NULL</td><td>ce.data.05a.TotalPrivate.Employment.csv</td></tr>",
                            "<tr><td>8757</td><td>CEU0500000001</td><td>2016</td><td>122083</td><td>M13</td><td>NULL</td><td>ce.data.0.AllCESSeries.csv</td></tr>",
                            "<tr><td>7954</td><td>CEU0500000002</td><td>2016</td><td>34.4</td><td>M13</td><td>NULL</td><td>ce.data.05b.TotalPrivate.AllEmployeeHoursAndEarnings.csv</td></tr>",
                            "<tr><td>8758</td><td>CEU0500000002</td><td>2016</td><td>34.4</td><td>M13</td><td>NULL</td><td>ce.data.0.AllCESSeries.csv</td></tr>",
                            "<tr><td>7955</td><td>CEU0500000003</td><td>2016</td><td>25.65</td><td>M13</td><td>NULL</td><td>ce.data.05b.TotalPrivate.AllEmployeeHoursAndEarnings.csv</td></tr>",
                            "<tr><td>8759</td><td>CEU0500000003</td><td>2016</td><td>25.65</td><td>M13</td><td>NULL</td><td>ce.data.0.AllCESSeries.csv</td></tr>",
                            "</table>"
                        ]
                    }
                }
            ],
            "execution_count": 126
        },
        {
            "cell_type": "markdown",
            "source": [
                "2. <span style=\"background-color: rgb(255, 255, 255); font-size: 10pt; white-space: pre-wrap; color: rgb(102, 102, 102); font-family: Arvo, serif;\">Join series and datatype on data_type_code</span>"
            ],
            "metadata": {
                "azdata_cell_guid": "710b59ae-224b-4f9d-b1a4-4a6b89048bbb"
            },
            "attachments": {}
        },
        {
            "cell_type": "code",
            "source": [
                "SELECT top 20 *\r\n",
                "FROM LaborStatisticsDB.dbo.series as s\r\n",
                "INNER JOIN LaborStatisticsDB.dbo.datatype as d\r\n",
                "ON s.data_type_code = d.data_type_code"
            ],
            "metadata": {
                "azdata_cell_guid": "fca61371-c9b5-4823-a4b4-34c1279ece3e"
            },
            "outputs": [
                {
                    "output_type": "display_data",
                    "data": {
                        "text/html": "(20 rows affected)"
                    },
                    "metadata": {}
                },
                {
                    "output_type": "display_data",
                    "data": {
                        "text/html": "Total execution time: 00:00:00.060"
                    },
                    "metadata": {}
                },
                {
                    "output_type": "execute_result",
                    "metadata": {},
                    "execution_count": 34,
                    "data": {
                        "application/vnd.dataresource+json": {
                            "schema": {
                                "fields": [
                                    {
                                        "name": "series_id"
                                    },
                                    {
                                        "name": "supersector_code"
                                    },
                                    {
                                        "name": "industry_code"
                                    },
                                    {
                                        "name": "data_type_code"
                                    },
                                    {
                                        "name": "seasonal"
                                    },
                                    {
                                        "name": "series_title"
                                    },
                                    {
                                        "name": "data_type_code"
                                    },
                                    {
                                        "name": "data_type_text"
                                    }
                                ]
                            },
                            "data": [
                                {
                                    "0": "CES0000000001",
                                    "1": "0",
                                    "2": "00000000",
                                    "3": "1",
                                    "4": "S",
                                    "5": "All employees",
                                    "6": "1",
                                    "7": "ALL EMPLOYEES"
                                },
                                {
                                    "0": "CES0000000010",
                                    "1": "0",
                                    "2": "00000000",
                                    "3": "10",
                                    "4": "S",
                                    "5": "Women employees",
                                    "6": "10",
                                    "7": "WOMEN EMPLOYEES"
                                },
                                {
                                    "0": "CES0000000025",
                                    "1": "0",
                                    "2": "00000000",
                                    "3": "25",
                                    "4": "S",
                                    "5": "All employees",
                                    "6": "25",
                                    "7": "ALL EMPLOYEES"
                                },
                                {
                                    "0": "CES0000000026",
                                    "1": "0",
                                    "2": "00000000",
                                    "3": "26",
                                    "4": "S",
                                    "5": "All employees",
                                    "6": "26",
                                    "7": "ALL EMPLOYEES"
                                },
                                {
                                    "0": "CES0500000001",
                                    "1": "5",
                                    "2": "05000000",
                                    "3": "1",
                                    "4": "S",
                                    "5": "All employees",
                                    "6": "1",
                                    "7": "ALL EMPLOYEES"
                                },
                                {
                                    "0": "CES0500000002",
                                    "1": "5",
                                    "2": "05000000",
                                    "3": "2",
                                    "4": "S",
                                    "5": "Average weekly hours of all employees",
                                    "6": "2",
                                    "7": "AVERAGE WEEKLY HOURS OF ALL EMPLOYEES"
                                },
                                {
                                    "0": "CES0500000003",
                                    "1": "5",
                                    "2": "05000000",
                                    "3": "3",
                                    "4": "S",
                                    "5": "Average hourly earnings of all employees",
                                    "6": "3",
                                    "7": "AVERAGE HOURLY EARNINGS OF ALL EMPLOYEES"
                                },
                                {
                                    "0": "CES0500000006",
                                    "1": "5",
                                    "2": "05000000",
                                    "3": "6",
                                    "4": "S",
                                    "5": "Production and nonsupervisory employees",
                                    "6": "6",
                                    "7": "PRODUCTION AND NONSUPERVISORY EMPLOYEES"
                                },
                                {
                                    "0": "CES0500000007",
                                    "1": "5",
                                    "2": "05000000",
                                    "3": "7",
                                    "4": "S",
                                    "5": "Average weekly hours of production and nonsupervisory employees",
                                    "6": "7",
                                    "7": "AVERAGE WEEKLY HOURS OF PRODUCTION AND NONSUPERVISORY EMPLOYEES"
                                },
                                {
                                    "0": "CES0500000008",
                                    "1": "5",
                                    "2": "05000000",
                                    "3": "8",
                                    "4": "S",
                                    "5": "Average hourly earnings of production and nonsupervisory employees",
                                    "6": "8",
                                    "7": "AVERAGE HOURLY EARNINGS OF PRODUCTION AND NONSUPERVISORY EMPLOYEES"
                                },
                                {
                                    "0": "CES0500000010",
                                    "1": "5",
                                    "2": "05000000",
                                    "3": "10",
                                    "4": "S",
                                    "5": "Women employees",
                                    "6": "10",
                                    "7": "WOMEN EMPLOYEES"
                                },
                                {
                                    "0": "CES0500000011",
                                    "1": "5",
                                    "2": "05000000",
                                    "3": "11",
                                    "4": "S",
                                    "5": "Average weekly earnings of all employees",
                                    "6": "11",
                                    "7": "AVERAGE WEEKLY EARNINGS OF ALL EMPLOYEES"
                                },
                                {
                                    "0": "CES0500000012",
                                    "1": "5",
                                    "2": "05000000",
                                    "3": "12",
                                    "4": "S",
                                    "5": "Average weekly earnings of all employees",
                                    "6": "12",
                                    "7": "AVERAGE WEEKLY EARNINGS OF ALL EMPLOYEES"
                                },
                                {
                                    "0": "CES0500000013",
                                    "1": "5",
                                    "2": "05000000",
                                    "3": "13",
                                    "4": "S",
                                    "5": "Average hourly earnings of all employees",
                                    "6": "13",
                                    "7": "AVERAGE HOURLY EARNINGS OF ALL EMPLOYEES"
                                },
                                {
                                    "0": "CES0500000016",
                                    "1": "5",
                                    "2": "05000000",
                                    "3": "16",
                                    "4": "S",
                                    "5": "Indexes of aggregate weekly hours of all employees",
                                    "6": "16",
                                    "7": "INDEXES OF AGGREGATE WEEKLY HOURS OF ALL EMPLOYEES"
                                },
                                {
                                    "0": "CES0500000017",
                                    "1": "5",
                                    "2": "05000000",
                                    "3": "17",
                                    "4": "S",
                                    "5": "Indexes of aggregate weekly payrolls of all employees",
                                    "6": "17",
                                    "7": "INDEXES OF AGGREGATE WEEKLY PAYROLLS OF ALL EMPLOYEES"
                                },
                                {
                                    "0": "CES0500000019",
                                    "1": "5",
                                    "2": "05000000",
                                    "3": "19",
                                    "4": "S",
                                    "5": "Average weekly hours of all employees",
                                    "6": "19",
                                    "7": "AVERAGE WEEKLY HOURS OF ALL EMPLOYEES"
                                },
                                {
                                    "0": "CES0500000021",
                                    "1": "5",
                                    "2": "05000000",
                                    "3": "21",
                                    "4": "S",
                                    "5": "Diffusion indexes",
                                    "6": "21",
                                    "7": "DIFFUSION INDEXES"
                                },
                                {
                                    "0": "CES0500000022",
                                    "1": "5",
                                    "2": "05000000",
                                    "3": "22",
                                    "4": "S",
                                    "5": "Diffusion indexes",
                                    "6": "22",
                                    "7": "DIFFUSION INDEXES"
                                },
                                {
                                    "0": "CES0500000023",
                                    "1": "5",
                                    "2": "05000000",
                                    "3": "23",
                                    "4": "S",
                                    "5": "Diffusion indexes",
                                    "6": "23",
                                    "7": "DIFFUSION INDEXES"
                                }
                            ]
                        },
                        "text/html": [
                            "<table>",
                            "<tr><th>series_id</th><th>supersector_code</th><th>industry_code</th><th>data_type_code</th><th>seasonal</th><th>series_title</th><th>data_type_code</th><th>data_type_text</th></tr>",
                            "<tr><td>CES0000000001</td><td>0</td><td>00000000</td><td>1</td><td>S</td><td>All employees</td><td>1</td><td>ALL EMPLOYEES</td></tr>",
                            "<tr><td>CES0000000010</td><td>0</td><td>00000000</td><td>10</td><td>S</td><td>Women employees</td><td>10</td><td>WOMEN EMPLOYEES</td></tr>",
                            "<tr><td>CES0000000025</td><td>0</td><td>00000000</td><td>25</td><td>S</td><td>All employees</td><td>25</td><td>ALL EMPLOYEES</td></tr>",
                            "<tr><td>CES0000000026</td><td>0</td><td>00000000</td><td>26</td><td>S</td><td>All employees</td><td>26</td><td>ALL EMPLOYEES</td></tr>",
                            "<tr><td>CES0500000001</td><td>5</td><td>05000000</td><td>1</td><td>S</td><td>All employees</td><td>1</td><td>ALL EMPLOYEES</td></tr>",
                            "<tr><td>CES0500000002</td><td>5</td><td>05000000</td><td>2</td><td>S</td><td>Average weekly hours of all employees</td><td>2</td><td>AVERAGE WEEKLY HOURS OF ALL EMPLOYEES</td></tr>",
                            "<tr><td>CES0500000003</td><td>5</td><td>05000000</td><td>3</td><td>S</td><td>Average hourly earnings of all employees</td><td>3</td><td>AVERAGE HOURLY EARNINGS OF ALL EMPLOYEES</td></tr>",
                            "<tr><td>CES0500000006</td><td>5</td><td>05000000</td><td>6</td><td>S</td><td>Production and nonsupervisory employees</td><td>6</td><td>PRODUCTION AND NONSUPERVISORY EMPLOYEES</td></tr>",
                            "<tr><td>CES0500000007</td><td>5</td><td>05000000</td><td>7</td><td>S</td><td>Average weekly hours of production and nonsupervisory employees</td><td>7</td><td>AVERAGE WEEKLY HOURS OF PRODUCTION AND NONSUPERVISORY EMPLOYEES</td></tr>",
                            "<tr><td>CES0500000008</td><td>5</td><td>05000000</td><td>8</td><td>S</td><td>Average hourly earnings of production and nonsupervisory employees</td><td>8</td><td>AVERAGE HOURLY EARNINGS OF PRODUCTION AND NONSUPERVISORY EMPLOYEES</td></tr>",
                            "<tr><td>CES0500000010</td><td>5</td><td>05000000</td><td>10</td><td>S</td><td>Women employees</td><td>10</td><td>WOMEN EMPLOYEES</td></tr>",
                            "<tr><td>CES0500000011</td><td>5</td><td>05000000</td><td>11</td><td>S</td><td>Average weekly earnings of all employees</td><td>11</td><td>AVERAGE WEEKLY EARNINGS OF ALL EMPLOYEES</td></tr>",
                            "<tr><td>CES0500000012</td><td>5</td><td>05000000</td><td>12</td><td>S</td><td>Average weekly earnings of all employees</td><td>12</td><td>AVERAGE WEEKLY EARNINGS OF ALL EMPLOYEES</td></tr>",
                            "<tr><td>CES0500000013</td><td>5</td><td>05000000</td><td>13</td><td>S</td><td>Average hourly earnings of all employees</td><td>13</td><td>AVERAGE HOURLY EARNINGS OF ALL EMPLOYEES</td></tr>",
                            "<tr><td>CES0500000016</td><td>5</td><td>05000000</td><td>16</td><td>S</td><td>Indexes of aggregate weekly hours of all employees</td><td>16</td><td>INDEXES OF AGGREGATE WEEKLY HOURS OF ALL EMPLOYEES</td></tr>",
                            "<tr><td>CES0500000017</td><td>5</td><td>05000000</td><td>17</td><td>S</td><td>Indexes of aggregate weekly payrolls of all employees</td><td>17</td><td>INDEXES OF AGGREGATE WEEKLY PAYROLLS OF ALL EMPLOYEES</td></tr>",
                            "<tr><td>CES0500000019</td><td>5</td><td>05000000</td><td>19</td><td>S</td><td>Average weekly hours of all employees</td><td>19</td><td>AVERAGE WEEKLY HOURS OF ALL EMPLOYEES</td></tr>",
                            "<tr><td>CES0500000021</td><td>5</td><td>05000000</td><td>21</td><td>S</td><td>Diffusion indexes</td><td>21</td><td>DIFFUSION INDEXES</td></tr>",
                            "<tr><td>CES0500000022</td><td>5</td><td>05000000</td><td>22</td><td>S</td><td>Diffusion indexes</td><td>22</td><td>DIFFUSION INDEXES</td></tr>",
                            "<tr><td>CES0500000023</td><td>5</td><td>05000000</td><td>23</td><td>S</td><td>Diffusion indexes</td><td>23</td><td>DIFFUSION INDEXES</td></tr>",
                            "</table>"
                        ]
                    }
                }
            ],
            "execution_count": 34
        },
        {
            "cell_type": "markdown",
            "source": [
                "3. <span style=\"background-color: rgb(255, 255, 255); font-size: 10pt; white-space: pre-wrap; color: rgb(102, 102, 102); font-family: Arvo, serif;\">Join series and industry on industry_code</span>"
            ],
            "metadata": {
                "azdata_cell_guid": "78ac8ba4-2a6a-426f-af30-6b56d9d09054"
            },
            "attachments": {}
        },
        {
            "cell_type": "code",
            "source": [
                "SELECT top 10 *\r\n",
                "FROM LaborStatisticsDB.dbo.series as s\r\n",
                "INNER JOIN LaborStatisticsDB.dbo.industry as i\r\n",
                "ON s.industry_code = i.industry_code"
            ],
            "metadata": {
                "azdata_cell_guid": "ac022766-e280-4d95-8362-1f2b18773662"
            },
            "outputs": [
                {
                    "output_type": "display_data",
                    "data": {
                        "text/html": "(10 rows affected)"
                    },
                    "metadata": {}
                },
                {
                    "output_type": "display_data",
                    "data": {
                        "text/html": "Total execution time: 00:00:00.073"
                    },
                    "metadata": {}
                },
                {
                    "output_type": "execute_result",
                    "metadata": {},
                    "execution_count": 127,
                    "data": {
                        "application/vnd.dataresource+json": {
                            "schema": {
                                "fields": [
                                    {
                                        "name": "series_id"
                                    },
                                    {
                                        "name": "supersector_code"
                                    },
                                    {
                                        "name": "industry_code"
                                    },
                                    {
                                        "name": "data_type_code"
                                    },
                                    {
                                        "name": "seasonal"
                                    },
                                    {
                                        "name": "series_title"
                                    },
                                    {
                                        "name": "id"
                                    },
                                    {
                                        "name": "industry_code"
                                    },
                                    {
                                        "name": "naics_code"
                                    },
                                    {
                                        "name": "publishing_status"
                                    },
                                    {
                                        "name": "industry_name"
                                    },
                                    {
                                        "name": "display_level"
                                    },
                                    {
                                        "name": "selectable"
                                    },
                                    {
                                        "name": "sort_sequence"
                                    }
                                ]
                            },
                            "data": [
                                {
                                    "0": "CES0000000001",
                                    "1": "0",
                                    "2": "00000000",
                                    "3": "1",
                                    "4": "S",
                                    "5": "All employees",
                                    "6": "0",
                                    "7": "0",
                                    "8": "-",
                                    "9": "B",
                                    "10": "Total nonfarm",
                                    "11": "0",
                                    "12": "T",
                                    "13": "1"
                                },
                                {
                                    "0": "CES0000000010",
                                    "1": "0",
                                    "2": "00000000",
                                    "3": "10",
                                    "4": "S",
                                    "5": "Women employees",
                                    "6": "0",
                                    "7": "0",
                                    "8": "-",
                                    "9": "B",
                                    "10": "Total nonfarm",
                                    "11": "0",
                                    "12": "T",
                                    "13": "1"
                                },
                                {
                                    "0": "CES0000000025",
                                    "1": "0",
                                    "2": "00000000",
                                    "3": "25",
                                    "4": "S",
                                    "5": "All employees",
                                    "6": "0",
                                    "7": "0",
                                    "8": "-",
                                    "9": "B",
                                    "10": "Total nonfarm",
                                    "11": "0",
                                    "12": "T",
                                    "13": "1"
                                },
                                {
                                    "0": "CES0000000026",
                                    "1": "0",
                                    "2": "00000000",
                                    "3": "26",
                                    "4": "S",
                                    "5": "All employees",
                                    "6": "0",
                                    "7": "0",
                                    "8": "-",
                                    "9": "B",
                                    "10": "Total nonfarm",
                                    "11": "0",
                                    "12": "T",
                                    "13": "1"
                                },
                                {
                                    "0": "CES0500000001",
                                    "1": "5",
                                    "2": "05000000",
                                    "3": "1",
                                    "4": "S",
                                    "5": "All employees",
                                    "6": "1",
                                    "7": "5000000",
                                    "8": "-",
                                    "9": "A",
                                    "10": "Total private",
                                    "11": "1",
                                    "12": "T",
                                    "13": "2"
                                },
                                {
                                    "0": "CES0500000002",
                                    "1": "5",
                                    "2": "05000000",
                                    "3": "2",
                                    "4": "S",
                                    "5": "Average weekly hours of all employees",
                                    "6": "1",
                                    "7": "5000000",
                                    "8": "-",
                                    "9": "A",
                                    "10": "Total private",
                                    "11": "1",
                                    "12": "T",
                                    "13": "2"
                                },
                                {
                                    "0": "CES0500000003",
                                    "1": "5",
                                    "2": "05000000",
                                    "3": "3",
                                    "4": "S",
                                    "5": "Average hourly earnings of all employees",
                                    "6": "1",
                                    "7": "5000000",
                                    "8": "-",
                                    "9": "A",
                                    "10": "Total private",
                                    "11": "1",
                                    "12": "T",
                                    "13": "2"
                                },
                                {
                                    "0": "CES0500000006",
                                    "1": "5",
                                    "2": "05000000",
                                    "3": "6",
                                    "4": "S",
                                    "5": "Production and nonsupervisory employees",
                                    "6": "1",
                                    "7": "5000000",
                                    "8": "-",
                                    "9": "A",
                                    "10": "Total private",
                                    "11": "1",
                                    "12": "T",
                                    "13": "2"
                                },
                                {
                                    "0": "CES0500000007",
                                    "1": "5",
                                    "2": "05000000",
                                    "3": "7",
                                    "4": "S",
                                    "5": "Average weekly hours of production and nonsupervisory employees",
                                    "6": "1",
                                    "7": "5000000",
                                    "8": "-",
                                    "9": "A",
                                    "10": "Total private",
                                    "11": "1",
                                    "12": "T",
                                    "13": "2"
                                },
                                {
                                    "0": "CES0500000008",
                                    "1": "5",
                                    "2": "05000000",
                                    "3": "8",
                                    "4": "S",
                                    "5": "Average hourly earnings of production and nonsupervisory employees",
                                    "6": "1",
                                    "7": "5000000",
                                    "8": "-",
                                    "9": "A",
                                    "10": "Total private",
                                    "11": "1",
                                    "12": "T",
                                    "13": "2"
                                }
                            ]
                        },
                        "text/html": [
                            "<table>",
                            "<tr><th>series_id</th><th>supersector_code</th><th>industry_code</th><th>data_type_code</th><th>seasonal</th><th>series_title</th><th>id</th><th>industry_code</th><th>naics_code</th><th>publishing_status</th><th>industry_name</th><th>display_level</th><th>selectable</th><th>sort_sequence</th></tr>",
                            "<tr><td>CES0000000001</td><td>0</td><td>00000000</td><td>1</td><td>S</td><td>All employees</td><td>0</td><td>0</td><td>-</td><td>B</td><td>Total nonfarm</td><td>0</td><td>T</td><td>1</td></tr>",
                            "<tr><td>CES0000000010</td><td>0</td><td>00000000</td><td>10</td><td>S</td><td>Women employees</td><td>0</td><td>0</td><td>-</td><td>B</td><td>Total nonfarm</td><td>0</td><td>T</td><td>1</td></tr>",
                            "<tr><td>CES0000000025</td><td>0</td><td>00000000</td><td>25</td><td>S</td><td>All employees</td><td>0</td><td>0</td><td>-</td><td>B</td><td>Total nonfarm</td><td>0</td><td>T</td><td>1</td></tr>",
                            "<tr><td>CES0000000026</td><td>0</td><td>00000000</td><td>26</td><td>S</td><td>All employees</td><td>0</td><td>0</td><td>-</td><td>B</td><td>Total nonfarm</td><td>0</td><td>T</td><td>1</td></tr>",
                            "<tr><td>CES0500000001</td><td>5</td><td>05000000</td><td>1</td><td>S</td><td>All employees</td><td>1</td><td>5000000</td><td>-</td><td>A</td><td>Total private</td><td>1</td><td>T</td><td>2</td></tr>",
                            "<tr><td>CES0500000002</td><td>5</td><td>05000000</td><td>2</td><td>S</td><td>Average weekly hours of all employees</td><td>1</td><td>5000000</td><td>-</td><td>A</td><td>Total private</td><td>1</td><td>T</td><td>2</td></tr>",
                            "<tr><td>CES0500000003</td><td>5</td><td>05000000</td><td>3</td><td>S</td><td>Average hourly earnings of all employees</td><td>1</td><td>5000000</td><td>-</td><td>A</td><td>Total private</td><td>1</td><td>T</td><td>2</td></tr>",
                            "<tr><td>CES0500000006</td><td>5</td><td>05000000</td><td>6</td><td>S</td><td>Production and nonsupervisory employees</td><td>1</td><td>5000000</td><td>-</td><td>A</td><td>Total private</td><td>1</td><td>T</td><td>2</td></tr>",
                            "<tr><td>CES0500000007</td><td>5</td><td>05000000</td><td>7</td><td>S</td><td>Average weekly hours of production and nonsupervisory employees</td><td>1</td><td>5000000</td><td>-</td><td>A</td><td>Total private</td><td>1</td><td>T</td><td>2</td></tr>",
                            "<tr><td>CES0500000008</td><td>5</td><td>05000000</td><td>8</td><td>S</td><td>Average hourly earnings of production and nonsupervisory employees</td><td>1</td><td>5000000</td><td>-</td><td>A</td><td>Total private</td><td>1</td><td>T</td><td>2</td></tr>",
                            "</table>"
                        ]
                    }
                }
            ],
            "execution_count": 127
        },
        {
            "cell_type": "markdown",
            "source": [
                "## <span style=\"font-size: 12pt; font-family: Montserrat, sans-serif; color: rgb(53, 74, 95); background-color: rgb(255, 255, 255); font-weight: 700; font-variant-numeric: normal; font-variant-east-asian: normal; vertical-align: baseline; white-space: pre-wrap;\">Aggregate Your Friends and Code some SQL</span>\n",
                "\n",
                "<span style=\"font-size: 10pt; font-family: Arvo, serif; color: rgb(102, 102, 102); background-color: rgb(255, 255, 255); font-variant-numeric: normal; font-variant-east-asian: normal; vertical-align: baseline; white-space: pre-wrap;\">Put together the following:</span>\n",
                "\n",
                "1. <span style=\"background-color: rgb(255, 255, 255); font-size: 10pt; white-space: pre-wrap; color: rgb(102, 102, 102); font-family: Arvo, serif;\">How many employees were reported in 2016 in all industries? Round to the nearest whole number.&nbsp; No chopping people into little bits, please.</span>"
            ],
            "metadata": {
                "azdata_cell_guid": "f4290cc1-f824-4586-8850-59d926bf4460"
            },
            "attachments": {}
        },
        {
            "cell_type": "code",
            "source": [
                "SELECT ROUND(SUM(p.value), 0) AS total_employees\r\n",
                "FROM LaborStatisticsDB.dbo.annual_2016 AS p\r\n",
                "INNER JOIN LaborStatisticsDB.dbo.series AS s\r\n",
                "ON p.series_id = s.series_id\r\n",
                "WHERE s.data_type_code = '1' \r\n",
                "\r\n",
                ""
            ],
            "metadata": {
                "azdata_cell_guid": "25099068-a629-4eb5-afca-ed3748c40605"
            },
            "outputs": [
                {
                    "output_type": "display_data",
                    "data": {
                        "text/html": "(1 row affected)"
                    },
                    "metadata": {}
                },
                {
                    "output_type": "display_data",
                    "data": {
                        "text/html": "Total execution time: 00:00:00.110"
                    },
                    "metadata": {}
                },
                {
                    "output_type": "execute_result",
                    "metadata": {},
                    "execution_count": 104,
                    "data": {
                        "application/vnd.dataresource+json": {
                            "schema": {
                                "fields": [
                                    {
                                        "name": "total_employees"
                                    }
                                ]
                            },
                            "data": [
                                {
                                    "0": "2340612"
                                }
                            ]
                        },
                        "text/html": [
                            "<table>",
                            "<tr><th>total_employees</th></tr>",
                            "<tr><td>2340612</td></tr>",
                            "</table>"
                        ]
                    }
                }
            ],
            "execution_count": 104
        },
        {
            "cell_type": "markdown",
            "source": [
                "2. <span style=\"background-color: rgb(255, 255, 255); font-size: 10pt; white-space: pre-wrap; color: rgb(102, 102, 102); font-family: Arvo, serif;\">How many women employees were reported in 2016 in all industries? Round to the nearest whole number.&nbsp;</span>"
            ],
            "metadata": {
                "azdata_cell_guid": "6358fab4-b933-4646-bef1-4be66dcd4317"
            },
            "attachments": {}
        },
        {
            "cell_type": "code",
            "source": [
                "SELECT ROUND(SUM(p.value), 0) AS women_employees\r\n",
                "FROM LaborStatisticsDB.dbo.annual_2016 AS p\r\n",
                "INNER JOIN LaborStatisticsDB.dbo.series AS s\r\n",
                "ON p.series_id = s.series_id\r\n",
                "WHERE s.data_type_code = '10' AND p.year = '2016'\r\n",
                ""
            ],
            "metadata": {
                "azdata_cell_guid": "7bb0bfb7-b9e3-4672-b354-7ca705bb0c3b",
                "tags": []
            },
            "outputs": [
                {
                    "output_type": "display_data",
                    "data": {
                        "text/html": "(1 row affected)"
                    },
                    "metadata": {}
                },
                {
                    "output_type": "display_data",
                    "data": {
                        "text/html": "Total execution time: 00:00:00.069"
                    },
                    "metadata": {}
                },
                {
                    "output_type": "execute_result",
                    "metadata": {},
                    "execution_count": 57,
                    "data": {
                        "application/vnd.dataresource+json": {
                            "schema": {
                                "fields": [
                                    {
                                        "name": "women_employees"
                                    }
                                ]
                            },
                            "data": [
                                {
                                    "0": "1125490"
                                }
                            ]
                        },
                        "text/html": [
                            "<table>",
                            "<tr><th>women_employees</th></tr>",
                            "<tr><td>1125490</td></tr>",
                            "</table>"
                        ]
                    }
                }
            ],
            "execution_count": 57
        },
        {
            "cell_type": "markdown",
            "source": [
                "3. <span style=\"background-color: rgb(255, 255, 255); font-size: 10pt; white-space: pre-wrap; color: rgb(102, 102, 102); font-family: Arvo, serif;\">How many production/nonsupervisory employees were reported in 2016? Round to the nearest whole number.&nbsp;</span>"
            ],
            "metadata": {
                "azdata_cell_guid": "246ea683-2075-4337-878d-fbfdd49b2dd7"
            },
            "attachments": {}
        },
        {
            "cell_type": "code",
            "source": [
                "SELECT ROUND(SUM(p.value), 0) AS  production_nonsupervisory_employees\r\n",
                "FROM LaborStatisticsDB.dbo.annual_2016 AS p\r\n",
                "INNER JOIN LaborStatisticsDB.dbo.series AS s\r\n",
                "ON p.series_id = s.series_id\r\n",
                "WHERE s.data_type_code = '6' AND p.year = '2016'"
            ],
            "metadata": {
                "azdata_cell_guid": "110f2591-069b-4bbe-87c7-2bcf76c3d36f"
            },
            "outputs": [
                {
                    "output_type": "display_data",
                    "data": {
                        "text/html": "(1 row affected)"
                    },
                    "metadata": {}
                },
                {
                    "output_type": "display_data",
                    "data": {
                        "text/html": "Total execution time: 00:00:00.075"
                    },
                    "metadata": {}
                },
                {
                    "output_type": "execute_result",
                    "metadata": {},
                    "execution_count": 63,
                    "data": {
                        "application/vnd.dataresource+json": {
                            "schema": {
                                "fields": [
                                    {
                                        "name": "production_nonsupervisory_employees"
                                    }
                                ]
                            },
                            "data": [
                                {
                                    "0": "1263650"
                                }
                            ]
                        },
                        "text/html": [
                            "<table>",
                            "<tr><th>production_nonsupervisory_employees</th></tr>",
                            "<tr><td>1263650</td></tr>",
                            "</table>"
                        ]
                    }
                }
            ],
            "execution_count": 63
        },
        {
            "cell_type": "markdown",
            "source": [
                "4. <span style=\"background-color: rgb(255, 255, 255); font-size: 10pt; white-space: pre-wrap; color: rgb(102, 102, 102); font-family: Arvo, serif;\">In January 2017, what is the average weekly hours worked by production and nonsupervisory employees across all industries?</span>"
            ],
            "metadata": {
                "azdata_cell_guid": "9caa7f57-e39d-4b7a-b705-25f8fe29d60b"
            },
            "attachments": {}
        },
        {
            "cell_type": "code",
            "source": [
                "SELECT ROUND(AVG(p.value), 0) AS average_weekly_hours\r\n",
                "FROM LaborStatisticsDB.dbo.january_2017 AS p\r\n",
                "INNER JOIN LaborStatisticsDB.dbo.series AS s\r\n",
                "ON p.series_id = s.series_id\r\n",
                "WHERE s.data_type_code = '7' "
            ],
            "metadata": {
                "azdata_cell_guid": "9f07fa8a-4217-439a-a9cd-831240d4bc9e"
            },
            "outputs": [
                {
                    "output_type": "display_data",
                    "data": {
                        "text/html": "(1 row affected)"
                    },
                    "metadata": {}
                },
                {
                    "output_type": "display_data",
                    "data": {
                        "text/html": "Total execution time: 00:00:00.088"
                    },
                    "metadata": {}
                },
                {
                    "output_type": "execute_result",
                    "metadata": {},
                    "execution_count": 70,
                    "data": {
                        "application/vnd.dataresource+json": {
                            "schema": {
                                "fields": [
                                    {
                                        "name": "average_weekly_hours"
                                    }
                                ]
                            },
                            "data": [
                                {
                                    "0": "36"
                                }
                            ]
                        },
                        "text/html": [
                            "<table>",
                            "<tr><th>average_weekly_hours</th></tr>",
                            "<tr><td>36</td></tr>",
                            "</table>"
                        ]
                    }
                }
            ],
            "execution_count": 70
        },
        {
            "cell_type": "markdown",
            "source": [
                "5. <span style=\"background-color: rgb(255, 255, 255); font-size: 10pt; white-space: pre-wrap; color: rgb(102, 102, 102); font-family: Arvo, serif;\">What is the total weekly payroll for production and nonsupervisory employees across all industries in January 2017? Round to the nearest penny, please.</span>"
            ],
            "metadata": {
                "azdata_cell_guid": "9c48ff2e-a6eb-4f02-8df2-988e219fbc00"
            },
            "attachments": {}
        },
        {
            "cell_type": "code",
            "source": [
                "SELECT ROUND(SUM(p.value), 2) AS total_weekly_payroll\r\n",
                "FROM LaborStatisticsDB.dbo.january_2017 AS p\r\n",
                "INNER JOIN LaborStatisticsDB.dbo.series AS s\r\n",
                "ON p.series_id = s.series_id\r\n",
                "WHERE s.data_type_code = '82' AND  p.year = '2017' AND p.period = 'M01'"
            ],
            "metadata": {
                "azdata_cell_guid": "c565641b-f1fa-4dbb-9320-24adfda97ca5"
            },
            "outputs": [
                {
                    "output_type": "display_data",
                    "data": {
                        "text/html": "(1 row affected)"
                    },
                    "metadata": {}
                },
                {
                    "output_type": "display_data",
                    "data": {
                        "text/html": "Total execution time: 00:00:00.086"
                    },
                    "metadata": {}
                },
                {
                    "output_type": "execute_result",
                    "metadata": {},
                    "execution_count": 76,
                    "data": {
                        "application/vnd.dataresource+json": {
                            "schema": {
                                "fields": [
                                    {
                                        "name": "total_weekly_payroll"
                                    }
                                ]
                            },
                            "data": [
                                {
                                    "0": "1838753220"
                                }
                            ]
                        },
                        "text/html": [
                            "<table>",
                            "<tr><th>total_weekly_payroll</th></tr>",
                            "<tr><td>1838753220</td></tr>",
                            "</table>"
                        ]
                    }
                }
            ],
            "execution_count": 76
        },
        {
            "cell_type": "markdown",
            "source": [
                "6. <span style=\"background-color: rgb(255, 255, 255); font-size: 10pt; white-space: pre-wrap; color: rgb(102, 102, 102); font-family: Arvo, serif;\">In January 2017, which industry was the average weekly hours worked by production and nonsupervisory employees the highest? Which industry was the lowest?</span>"
            ],
            "metadata": {
                "azdata_cell_guid": "862fd406-4fff-49bb-9d2b-232275a06405"
            },
            "attachments": {}
        },
        {
            "cell_type": "code",
            "source": [
                "--highest\r\n",
                "SELECT top 10 i.industry_name,\r\n",
                "       AVG(j.value) AS avg_weekly_hours\r\n",
                "FROM LaborStatisticsDB.dbo.january_2017 AS j\r\n",
                "INNER JOIN LaborStatisticsDB.dbo.series AS s \r\n",
                "ON j.series_id = s.series_id\r\n",
                "INNER JOIN LaborStatisticsDB.dbo.industry AS i\r\n",
                "ON s.industry_code = i.industry_code\r\n",
                "WHERE s.data_type_code = '7'\r\n",
                "  AND j.year = '2017'\r\n",
                "GROUP BY i.industry_name\r\n",
                "ORDER BY avg_weekly_hours DESC\r\n",
                "\r\n",
                "--lowest\r\n",
                "SELECT top 10 i.industry_name,\r\n",
                "       AVG(j.value) AS avg_weekly_hours\r\n",
                "FROM LaborStatisticsDB.dbo.january_2017 AS j\r\n",
                "INNER JOIN LaborStatisticsDB.dbo.series AS s \r\n",
                "ON j.series_id = s.series_id\r\n",
                "INNER JOIN LaborStatisticsDB.dbo.industry AS i\r\n",
                "ON s.industry_code = i.industry_code\r\n",
                "WHERE s.data_type_code = '7'\r\n",
                "  AND j.year = '2017'\r\n",
                "GROUP BY i.industry_name\r\n",
                "ORDER BY avg_weekly_hours ASC"
            ],
            "metadata": {
                "azdata_cell_guid": "01e11050-5f2f-4d22-92e0-2b3024b80a5f"
            },
            "outputs": [
                {
                    "output_type": "display_data",
                    "data": {
                        "text/html": "(10 rows affected)"
                    },
                    "metadata": {}
                },
                {
                    "output_type": "display_data",
                    "data": {
                        "text/html": "(10 rows affected)"
                    },
                    "metadata": {}
                },
                {
                    "output_type": "display_data",
                    "data": {
                        "text/html": "Total execution time: 00:00:00.158"
                    },
                    "metadata": {}
                },
                {
                    "output_type": "execute_result",
                    "metadata": {},
                    "execution_count": 82,
                    "data": {
                        "application/vnd.dataresource+json": {
                            "schema": {
                                "fields": [
                                    {
                                        "name": "industry_name"
                                    },
                                    {
                                        "name": "avg_weekly_hours"
                                    }
                                ]
                            },
                            "data": [
                                {
                                    "0": "Motor vehicle power train components",
                                    "1": "49.6"
                                },
                                {
                                    "0": "Support activities for mining",
                                    "1": "47.2"
                                },
                                {
                                    "0": "Support activities for oil and gas operations",
                                    "1": "46.7"
                                },
                                {
                                    "0": "Motor vehicle metal stamping",
                                    "1": "46.699999999999996"
                                },
                                {
                                    "0": "Coal mining",
                                    "1": "46.6"
                                },
                                {
                                    "0": "Oil and gas pipeline construction",
                                    "1": "46.1"
                                },
                                {
                                    "0": "Mining",
                                    "1": "46.025"
                                },
                                {
                                    "0": "Boilers",
                                    "1": "45.7"
                                },
                                {
                                    "0": "Crushed and broken limestone mining",
                                    "1": "45.7"
                                },
                                {
                                    "0": "Mining and logging",
                                    "1": "45.65"
                                }
                            ]
                        },
                        "text/html": [
                            "<table>",
                            "<tr><th>industry_name</th><th>avg_weekly_hours</th></tr>",
                            "<tr><td>Motor vehicle power train components</td><td>49.6</td></tr>",
                            "<tr><td>Support activities for mining</td><td>47.2</td></tr>",
                            "<tr><td>Support activities for oil and gas operations</td><td>46.7</td></tr>",
                            "<tr><td>Motor vehicle metal stamping</td><td>46.699999999999996</td></tr>",
                            "<tr><td>Coal mining</td><td>46.6</td></tr>",
                            "<tr><td>Oil and gas pipeline construction</td><td>46.1</td></tr>",
                            "<tr><td>Mining</td><td>46.025</td></tr>",
                            "<tr><td>Boilers</td><td>45.7</td></tr>",
                            "<tr><td>Crushed and broken limestone mining</td><td>45.7</td></tr>",
                            "<tr><td>Mining and logging</td><td>45.65</td></tr>",
                            "</table>"
                        ]
                    }
                },
                {
                    "output_type": "execute_result",
                    "metadata": {},
                    "execution_count": 82,
                    "data": {
                        "application/vnd.dataresource+json": {
                            "schema": {
                                "fields": [
                                    {
                                        "name": "industry_name"
                                    },
                                    {
                                        "name": "avg_weekly_hours"
                                    }
                                ]
                            },
                            "data": [
                                {
                                    "0": "Fitness and recreational sports centers",
                                    "1": "16.85"
                                },
                                {
                                    "0": "Civic and social organizations",
                                    "1": "18.3"
                                },
                                {
                                    "0": "Family clothing stores",
                                    "1": "18.8"
                                },
                                {
                                    "0": "Women's clothing stores",
                                    "1": "18.8"
                                },
                                {
                                    "0": "Skiing facilities",
                                    "1": "19.3"
                                },
                                {
                                    "0": "Clothing stores",
                                    "1": "19.6"
                                },
                                {
                                    "0": "Bowling centers",
                                    "1": "20.2"
                                },
                                {
                                    "0": "Clothing accessories stores",
                                    "1": "21.2"
                                },
                                {
                                    "0": "Clothing and clothing accessories stores",
                                    "1": "21.3"
                                },
                                {
                                    "0": "Drinking places",
                                    "1": "21.35"
                                }
                            ]
                        },
                        "text/html": [
                            "<table>",
                            "<tr><th>industry_name</th><th>avg_weekly_hours</th></tr>",
                            "<tr><td>Fitness and recreational sports centers</td><td>16.85</td></tr>",
                            "<tr><td>Civic and social organizations</td><td>18.3</td></tr>",
                            "<tr><td>Family clothing stores</td><td>18.8</td></tr>",
                            "<tr><td>Women's clothing stores</td><td>18.8</td></tr>",
                            "<tr><td>Skiing facilities</td><td>19.3</td></tr>",
                            "<tr><td>Clothing stores</td><td>19.6</td></tr>",
                            "<tr><td>Bowling centers</td><td>20.2</td></tr>",
                            "<tr><td>Clothing accessories stores</td><td>21.2</td></tr>",
                            "<tr><td>Clothing and clothing accessories stores</td><td>21.3</td></tr>",
                            "<tr><td>Drinking places</td><td>21.35</td></tr>",
                            "</table>"
                        ]
                    }
                }
            ],
            "execution_count": 82
        },
        {
            "cell_type": "markdown",
            "source": [
                "7. <span style=\"background-color: rgb(255, 255, 255); font-size: 10pt; white-space: pre-wrap; color: rgb(102, 102, 102); font-family: Arvo, serif;\">In January 2021, which industry was the total weekly payroll for production and nonsupervisory employees the highest? Which industry was the lowest?</span>"
            ],
            "metadata": {
                "azdata_cell_guid": "a53f4113-60c6-46d1-b9a3-34610c61d4f9"
            },
            "attachments": {}
        },
        {
            "cell_type": "code",
            "source": [
                "--highest\r\n",
                "SELECT top 1 i.industry_name,\r\n",
                "       AVG(j.value) AS avg_weekly_hours\r\n",
                "FROM LaborStatisticsDB.dbo.january_2017 AS j\r\n",
                "INNER JOIN LaborStatisticsDB.dbo.series AS s \r\n",
                "ON j.series_id = s.series_id\r\n",
                "INNER JOIN LaborStatisticsDB.dbo.industry AS i\r\n",
                "ON s.industry_code = i.industry_code\r\n",
                "WHERE s.data_type_code = '30'\r\n",
                "GROUP BY i.industry_name\r\n",
                "ORDER BY avg_weekly_hours DESC\r\n",
                "\r\n",
                "--lowest\r\n",
                "SELECT top 1 i.industry_name,\r\n",
                "       AVG(j.value) AS avg_weekly_hours\r\n",
                "FROM LaborStatisticsDB.dbo.january_2017 AS j\r\n",
                "INNER JOIN LaborStatisticsDB.dbo.series AS s \r\n",
                "ON j.series_id = s.series_id\r\n",
                "INNER JOIN LaborStatisticsDB.dbo.industry AS i\r\n",
                "ON s.industry_code = i.industry_code\r\n",
                "WHERE s.data_type_code = '30'\r\n",
                "GROUP BY i.industry_name\r\n",
                "ORDER BY avg_weekly_hours ASC\r\n",
                ""
            ],
            "metadata": {
                "azdata_cell_guid": "583695e6-7438-4e03-8970-1fe0c677a793",
                "tags": []
            },
            "outputs": [
                {
                    "output_type": "display_data",
                    "data": {
                        "text/html": "(1 row affected)"
                    },
                    "metadata": {}
                },
                {
                    "output_type": "display_data",
                    "data": {
                        "text/html": "(1 row affected)"
                    },
                    "metadata": {}
                },
                {
                    "output_type": "display_data",
                    "data": {
                        "text/html": "Total execution time: 00:00:00.479"
                    },
                    "metadata": {}
                },
                {
                    "output_type": "execute_result",
                    "metadata": {},
                    "execution_count": 105,
                    "data": {
                        "application/vnd.dataresource+json": {
                            "schema": {
                                "fields": [
                                    {
                                        "name": "industry_name"
                                    },
                                    {
                                        "name": "avg_weekly_hours"
                                    }
                                ]
                            },
                            "data": [
                                {
                                    "0": "Reinsurance carriers",
                                    "1": "1810.585"
                                }
                            ]
                        },
                        "text/html": [
                            "<table>",
                            "<tr><th>industry_name</th><th>avg_weekly_hours</th></tr>",
                            "<tr><td>Reinsurance carriers</td><td>1810.585</td></tr>",
                            "</table>"
                        ]
                    }
                },
                {
                    "output_type": "execute_result",
                    "metadata": {},
                    "execution_count": 105,
                    "data": {
                        "application/vnd.dataresource+json": {
                            "schema": {
                                "fields": [
                                    {
                                        "name": "industry_name"
                                    },
                                    {
                                        "name": "avg_weekly_hours"
                                    }
                                ]
                            },
                            "data": [
                                {
                                    "0": "Bowling centers",
                                    "1": "234.625"
                                }
                            ]
                        },
                        "text/html": [
                            "<table>",
                            "<tr><th>industry_name</th><th>avg_weekly_hours</th></tr>",
                            "<tr><td>Bowling centers</td><td>234.625</td></tr>",
                            "</table>"
                        ]
                    }
                }
            ],
            "execution_count": 105
        },
        {
            "cell_type": "markdown",
            "source": [
                "## <span style=\"font-size: 12pt; font-family: Montserrat, sans-serif; color: rgb(53, 74, 95); background-color: rgb(255, 255, 255); font-weight: 700; font-variant-numeric: normal; font-variant-east-asian: normal; vertical-align: baseline; white-space: pre-wrap;\">Subqueries, Unions, Derived Tables, Oh My!</span>\n",
                "\n",
                "1. <span style=\"background-color: rgb(255, 255, 255); font-size: 10pt; white-space: pre-wrap; color: rgb(102, 102, 102); font-family: Arvo, serif;\">Write a query that returns the series_id, industry_code, industry_name, and value from the january_2017 table but only if that value is greater than the average value for annual_2016 of data_type_code 82.</span>"
            ],
            "metadata": {
                "azdata_cell_guid": "e98ec195-5399-4718-83ef-54fb954662a5"
            },
            "attachments": {}
        },
        {
            "cell_type": "code",
            "source": [
                "SELECT top 10 s.series_id, i.industry_code, i.industry_name, j.[value]\r\n",
                "FROM LaborStatisticsDB.dbo.january_2017 AS j\r\n",
                "JOIN LaborStatisticsDB.dbo.series AS s\r\n",
                "ON j.series_id = s.series_id\r\n",
                "JOIN LaborStatisticsDB.dbo.industry AS i\r\n",
                "ON s.industry_code = i.industry_code\r\n",
                "WHERE j.value> (select avg(a.value)\r\n",
                "     FROM LaborStatisticsDB.dbo.annual_2016 AS a\r\n",
                "     JOIN LaborStatisticsDB.dbo.series AS s\r\n",
                "     ON a.series_id = s.series_id\r\n",
                "     where s.data_type_code = 82)\r\n",
                "     ORDER BY j.value DESC;\r\n",
                "\r\n",
                ""
            ],
            "metadata": {
                "azdata_cell_guid": "7c85f70b-528f-4cbd-bd8e-a6efab1c18df",
                "tags": []
            },
            "outputs": [
                {
                    "output_type": "display_data",
                    "data": {
                        "text/html": "(10 rows affected)"
                    },
                    "metadata": {}
                },
                {
                    "output_type": "display_data",
                    "data": {
                        "text/html": "Total execution time: 00:00:00.479"
                    },
                    "metadata": {}
                },
                {
                    "output_type": "execute_result",
                    "metadata": {},
                    "execution_count": 124,
                    "data": {
                        "application/vnd.dataresource+json": {
                            "schema": {
                                "fields": [
                                    {
                                        "name": "series_id"
                                    },
                                    {
                                        "name": "industry_code"
                                    },
                                    {
                                        "name": "industry_name"
                                    },
                                    {
                                        "name": "value"
                                    }
                                ]
                            },
                            "data": [
                                {
                                    "0": "CES0500000057",
                                    "1": "5000000",
                                    "2": "Total private",
                                    "3": "110301694"
                                },
                                {
                                    "0": "CES0500000057",
                                    "1": "5000000",
                                    "2": "Total private",
                                    "3": "110301694"
                                },
                                {
                                    "0": "CEU0500000057",
                                    "1": "5000000",
                                    "2": "Total private",
                                    "3": "109731861"
                                },
                                {
                                    "0": "CEU0500000057",
                                    "1": "5000000",
                                    "2": "Total private",
                                    "3": "109731861"
                                },
                                {
                                    "0": "CEU0800000057",
                                    "1": "8000000",
                                    "2": "Private service-providing",
                                    "3": "88446140"
                                },
                                {
                                    "0": "CEU0800000057",
                                    "1": "8000000",
                                    "2": "Private service-providing",
                                    "3": "88446140"
                                },
                                {
                                    "0": "CES0800000057",
                                    "1": "8000000",
                                    "2": "Private service-providing",
                                    "3": "88280865"
                                },
                                {
                                    "0": "CES0800000057",
                                    "1": "8000000",
                                    "2": "Private service-providing",
                                    "3": "88280865"
                                },
                                {
                                    "0": "CES0500000082",
                                    "1": "5000000",
                                    "2": "Total private",
                                    "3": "74498171"
                                },
                                {
                                    "0": "CES0500000082",
                                    "1": "5000000",
                                    "2": "Total private",
                                    "3": "74498171"
                                }
                            ]
                        },
                        "text/html": [
                            "<table>",
                            "<tr><th>series_id</th><th>industry_code</th><th>industry_name</th><th>value</th></tr>",
                            "<tr><td>CES0500000057</td><td>5000000</td><td>Total private</td><td>110301694</td></tr>",
                            "<tr><td>CES0500000057</td><td>5000000</td><td>Total private</td><td>110301694</td></tr>",
                            "<tr><td>CEU0500000057</td><td>5000000</td><td>Total private</td><td>109731861</td></tr>",
                            "<tr><td>CEU0500000057</td><td>5000000</td><td>Total private</td><td>109731861</td></tr>",
                            "<tr><td>CEU0800000057</td><td>8000000</td><td>Private service-providing</td><td>88446140</td></tr>",
                            "<tr><td>CEU0800000057</td><td>8000000</td><td>Private service-providing</td><td>88446140</td></tr>",
                            "<tr><td>CES0800000057</td><td>8000000</td><td>Private service-providing</td><td>88280865</td></tr>",
                            "<tr><td>CES0800000057</td><td>8000000</td><td>Private service-providing</td><td>88280865</td></tr>",
                            "<tr><td>CES0500000082</td><td>5000000</td><td>Total private</td><td>74498171</td></tr>",
                            "<tr><td>CES0500000082</td><td>5000000</td><td>Total private</td><td>74498171</td></tr>",
                            "</table>"
                        ]
                    }
                }
            ],
            "execution_count": 124
        },
        {
            "cell_type": "markdown",
            "source": [
                "2. <span style=\"background-color: rgb(255, 255, 255); font-size: 10pt; white-space: pre-wrap; color: rgb(102, 102, 102); font-family: Arvo, serif;\">Create a Union table comparing average weekly earnings&nbsp; of production and nonsupervisory employees between annual_16 and january_17 using the data type 30.&nbsp; Round to the nearest penny.&nbsp; You should have a column for the average earnings and a column for the year, and the period.</span>"
            ],
            "metadata": {
                "azdata_cell_guid": "1bb0ed09-4b02-4132-910e-5903697628af"
            },
            "attachments": {}
        },
        {
            "cell_type": "code",
            "source": [
                "SELECT\r\n",
                "    ROUND(AVG(a.value), 2) AS average_earnings,\r\n",
                "    '2016' AS year,\r\n",
                "    'Annual' AS period\r\n",
                "FROM\r\n",
                "    LaborStatisticsDB.dbo.annual_2016 AS a\r\n",
                "JOIN LaborStatisticsDB.dbo.series AS s ON a.series_id = s.series_id\r\n",
                "WHERE\r\n",
                "    s.data_type_code = 30\r\n",
                "UNION ALL\r\n",
                "SELECT\r\n",
                "    ROUND(AVG(j.value), 2) AS average_earnings,\r\n",
                "    '2017' AS year,\r\n",
                "    'January' AS period\r\n",
                "FROM\r\n",
                "    LaborStatisticsDB.dbo.january_2017 AS j\r\n",
                "JOIN LaborStatisticsDB.dbo.series AS s ON j.series_id = s.series_id\r\n",
                "WHERE\r\n",
                "    s.data_type_code = 30;\r\n",
                ""
            ],
            "metadata": {
                "azdata_cell_guid": "0841b6d6-9af2-41ba-8e28-dc40d08bd061"
            },
            "outputs": [
                {
                    "output_type": "display_data",
                    "data": {
                        "text/html": "(2 rows affected)"
                    },
                    "metadata": {}
                },
                {
                    "output_type": "display_data",
                    "data": {
                        "text/html": "Total execution time: 00:00:00.109"
                    },
                    "metadata": {}
                },
                {
                    "output_type": "execute_result",
                    "metadata": {},
                    "execution_count": 117,
                    "data": {
                        "application/vnd.dataresource+json": {
                            "schema": {
                                "fields": [
                                    {
                                        "name": "average_earnings"
                                    },
                                    {
                                        "name": "year"
                                    },
                                    {
                                        "name": "period"
                                    }
                                ]
                            },
                            "data": [
                                {
                                    "0": "797.2",
                                    "1": "2016",
                                    "2": "Annual"
                                },
                                {
                                    "0": "808.53",
                                    "1": "2017",
                                    "2": "January"
                                }
                            ]
                        },
                        "text/html": [
                            "<table>",
                            "<tr><th>average_earnings</th><th>year</th><th>period</th></tr>",
                            "<tr><td>797.2</td><td>2016</td><td>Annual</td></tr>",
                            "<tr><td>808.53</td><td>2017</td><td>January</td></tr>",
                            "</table>"
                        ]
                    }
                }
            ],
            "execution_count": 117
        },
        {
            "cell_type": "markdown",
            "source": [
                "## <span style=\"font-size:12pt;font-family:Montserrat, sans-serif;color:rgb(53, 74, 95);background-color:rgb(255, 255, 255);font-weight:700;vertical-align:baseline;white-space:pre-wrap;\">Summarize Your Results</span>\n",
                "\n",
                "<span style=\"font-size:10pt;font-family:Arvo, serif;color:rgb(102, 102, 102);background-color:rgb(255, 255, 255);vertical-align:baseline;white-space:pre-wrap;\">With what you know now about the </span> <span style=\"background-color:rgb(255, 255, 255);color:rgb(102, 102, 102);font-family:&quot;Times New Roman&quot;;font-size:13.3333px;white-space:pre-wrap;\">Bureau of Labor Statistics (BLS) Current Employment Survey (CES) results and working with the</span> <span style=\"color:rgb(102, 102, 102);white-space:pre-wrap;font-family:&quot;Times New Roman&quot;;font-size:13.3333px;\">Labor Statistics Database</span><span style=\"background-color:rgb(255, 255, 255);color:rgb(102, 102, 102);font-family:Arvo, serif;font-size:10pt;white-space:pre-wrap;\">, answer the following questions. Note that while this is subjective, you should include relevant data to back up your opinion.</span>\n",
                "\n",
                "1. <span style=\"background-color:rgb(255, 255, 255);font-size:10pt;white-space:pre-wrap;color:rgb(102, 102, 102);font-family:Arvo, serif;\">During which time period did production and nonsupervisory employees fare better?</span>"
            ],
            "metadata": {
                "azdata_cell_guid": "780f65a6-b9e7-4f24-9132-293c47f559e8"
            },
            "attachments": {}
        },
        {
            "cell_type": "markdown",
            "source": [
                "Based on the data I have above that shows 797.2,  2016 Annual,\n",
                "\n",
                "808.53, 2017, January,  the time period for January fares better."
            ],
            "metadata": {
                "azdata_cell_guid": "f11f1fb2-f7d1-41e5-bc9c-84087d7cfc93"
            },
            "attachments": {}
        },
        {
            "cell_type": "markdown",
            "source": [
                "2. <span style=\"background-color: rgb(255, 255, 255); font-size: 10pt; white-space: pre-wrap; color: rgb(102, 102, 102); font-family: Arvo, serif;\">In which industries did production and nonsupervisory employees fare better?</span>"
            ],
            "metadata": {
                "azdata_cell_guid": "f606e5e5-f6f1-4070-bbfa-e31617b43e56"
            },
            "attachments": {}
        },
        {
            "cell_type": "markdown",
            "source": [
                "Motor Vehicle Power Train Components"
            ],
            "metadata": {
                "azdata_cell_guid": "94e18f5d-b87b-4ba6-b1fd-bde035dafc04"
            },
            "attachments": {}
        },
        {
            "cell_type": "markdown",
            "source": [
                "3. <span style=\"font-size: 10pt; font-family: Arvo, serif; color: rgb(102, 102, 102); background-color: rgb(255, 255, 255); font-variant-numeric: normal; font-variant-east-asian: normal; vertical-align: baseline; white-space: pre-wrap;\">Now that you have explored the datasets, is there any data or information that you wish you had in this analysis</span>"
            ],
            "metadata": {
                "azdata_cell_guid": "101e4449-601a-46c6-b217-23f3339cfa76"
            },
            "attachments": {}
        },
        {
            "cell_type": "markdown",
            "source": [
                "<span style=\"font-size: 13.3333px; white-space: pre-wrap;\">It was very confusing in the beginning and took way more time to understand each of the connections, they have sent the schema of the model by the time finished this project.</span>\n",
                "\n",
                "<span style=\"font-size: 13.3333px; white-space: pre-wrap;\">The second thing is that the instructions that are given, either are worded wrongly on specific enough because I was confused on a couple of the things because I wasn't sure which data_type-code they were referring to.</span>"
            ],
            "metadata": {
                "azdata_cell_guid": "d07e9180-f5e0-49b4-b395-2c6c8a5f8aac"
            },
            "attachments": {}
        }
    ]
}